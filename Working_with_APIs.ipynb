{
 "cells": [
  {
   "cell_type": "code",
   "execution_count": null,
   "metadata": {},
   "outputs": [],
   "source": [
    "from dotenv import load_dotenv\n",
    "import os\n",
    "\n",
    "# Load the .env file\n",
    "load_dotenv()\n",
    "\n",
    "# Access the API key\n",
    "API_KEY = os.getenv(\"API_KEY\")\n"
   ]
  },
  {
   "cell_type": "code",
   "execution_count": null,
   "metadata": {},
   "outputs": [],
   "source": [
    "import requests as r\n",
    "\n",
    "# Base URL\n",
    "url = \"https://alphavantageapi.co/timeseries/analytics\"\n",
    "\n",
    "# Parameters\n",
    "params = {\n",
    "    \"SYMBOLS\": \"AAPL,NVDA,IBM, DELL, GOOGL\",\n",
    "    \"RANGE\": \"2024-01-01,2024-11-01\",\n",
    "    \"INTERVAL\": \"DAILY\",\n",
    "    \"OHLC\": \"close\",\n",
    "    \"CALCULATIONS\": \"CORRELATION\",\n",
    "    \"apikey\": \"API_KEY\" \n",
    "}\n",
    "\n",
    "# Make the request\n",
    "response = r.get(url, params=params)\n",
    "\n",
    "# Check the response\n",
    "print(response.url)  # Verify the constructed URL\n",
    "print(response.status_code)"
   ]
  },
  {
   "cell_type": "code",
   "execution_count": null,
   "metadata": {},
   "outputs": [],
   "source": [
    "# extract and store in a dataframe\n",
    "import pandas as pd\n",
    "analytics_data = response.json()\n",
    "\n",
    "# convert data to dataframe\n",
    "corr_data = analytics_data['payload']['RETURNS_CALCULATIONS']['CORRELATION']\n",
    "corr_df = pd.DataFrame(\n",
    "    corr_data['correlation'], \n",
    "    index=corr_data['index'], \n",
    "    columns=corr_data['index']\n",
    ")\n",
    "\n",
    "corr_df.head()\n"
   ]
  },
  {
   "cell_type": "code",
   "execution_count": null,
   "metadata": {},
   "outputs": [],
   "source": [
    "# Fill NaN values by filling in the reverse (symmetry of correlation matrix)\n",
    "for i in range(len(corr_df.columns)):\n",
    "    for j in range(i+1, len(corr_df.columns)):\n",
    "        # If the lower triangle is populated but the upper triangle has NaN, fill it\n",
    "        if pd.isna(corr_df.iloc[i, j]):\n",
    "            corr_df.iloc[i, j] = corr_df.iloc[j, i]\n",
    "\n",
    "corr_df.head()"
   ]
  },
  {
   "cell_type": "code",
   "execution_count": null,
   "metadata": {},
   "outputs": [],
   "source": [
    "# save as .csv\n",
    "corr_df.to_csv('stocks_correlation.csv', index=True)"
   ]
  }
 ],
 "metadata": {
  "kernelspec": {
   "display_name": "base",
   "language": "python",
   "name": "python3"
  },
  "language_info": {
   "codemirror_mode": {
    "name": "ipython",
    "version": 3
   },
   "file_extension": ".py",
   "mimetype": "text/x-python",
   "name": "python",
   "nbconvert_exporter": "python",
   "pygments_lexer": "ipython3",
   "version": "3.11.3"
  }
 },
 "nbformat": 4,
 "nbformat_minor": 2
}
