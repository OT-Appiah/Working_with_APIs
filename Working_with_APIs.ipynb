{
 "cells": [
  {
   "cell_type": "code",
   "execution_count": null,
   "metadata": {},
   "outputs": [
    {
     "name": "stdout",
     "output_type": "stream",
     "text": [
      "My API Key is: YCJVIX0BHBQWD92T\n"
     ]
    }
   ],
   "source": [
    "from dotenv import load_dotenv\n",
    "import os\n",
    "\n",
    "# Load the .env file\n",
    "load_dotenv()\n",
    "\n",
    "# Access the API key\n",
    "API_KEY = os.getenv(\"API_KEY\")\n"
   ]
  },
  {
   "cell_type": "code",
   "execution_count": 4,
   "metadata": {},
   "outputs": [
    {
     "name": "stdout",
     "output_type": "stream",
     "text": [
      "https://alphavantageapi.co/timeseries/analytics?SYMBOLS=AAPL%2CNVDA%2CIBM%2C+DELL%2C+GOOGL&RANGE=2024-01-01%2C2024-11-01&INTERVAL=DAILY&OHLC=close&CALCULATIONS=CORRELATION&apikey=API_KEY\n",
      "200\n"
     ]
    }
   ],
   "source": [
    "import requests as r\n",
    "\n",
    "# Base URL\n",
    "url = \"https://alphavantageapi.co/timeseries/analytics\"\n",
    "\n",
    "# Parameters\n",
    "params = {\n",
    "    \"SYMBOLS\": \"AAPL,NVDA,IBM, DELL, GOOGL\",\n",
    "    \"RANGE\": \"2024-01-01,2024-11-01\",\n",
    "    \"INTERVAL\": \"DAILY\",\n",
    "    \"OHLC\": \"close\",\n",
    "    \"CALCULATIONS\": \"CORRELATION\",\n",
    "    \"apikey\": \"API_KEY\" \n",
    "}\n",
    "\n",
    "# Make the request\n",
    "response = r.get(url, params=params)\n",
    "\n",
    "# Check the response\n",
    "print(response.url)  # Verify the constructed URL\n",
    "print(response.status_code)"
   ]
  },
  {
   "cell_type": "code",
   "execution_count": 5,
   "metadata": {},
   "outputs": [
    {
     "data": {
      "text/html": [
       "<div>\n",
       "<style scoped>\n",
       "    .dataframe tbody tr th:only-of-type {\n",
       "        vertical-align: middle;\n",
       "    }\n",
       "\n",
       "    .dataframe tbody tr th {\n",
       "        vertical-align: top;\n",
       "    }\n",
       "\n",
       "    .dataframe thead th {\n",
       "        text-align: right;\n",
       "    }\n",
       "</style>\n",
       "<table border=\"1\" class=\"dataframe\">\n",
       "  <thead>\n",
       "    <tr style=\"text-align: right;\">\n",
       "      <th></th>\n",
       "      <th>GOOGL</th>\n",
       "      <th>NVDA</th>\n",
       "      <th>AAPL</th>\n",
       "      <th>IBM</th>\n",
       "      <th>DELL</th>\n",
       "    </tr>\n",
       "  </thead>\n",
       "  <tbody>\n",
       "    <tr>\n",
       "      <th>GOOGL</th>\n",
       "      <td>1.000000</td>\n",
       "      <td>NaN</td>\n",
       "      <td>NaN</td>\n",
       "      <td>NaN</td>\n",
       "      <td>NaN</td>\n",
       "    </tr>\n",
       "    <tr>\n",
       "      <th>NVDA</th>\n",
       "      <td>0.328185</td>\n",
       "      <td>1.000000</td>\n",
       "      <td>NaN</td>\n",
       "      <td>NaN</td>\n",
       "      <td>NaN</td>\n",
       "    </tr>\n",
       "    <tr>\n",
       "      <th>AAPL</th>\n",
       "      <td>0.378144</td>\n",
       "      <td>0.268774</td>\n",
       "      <td>1.000000</td>\n",
       "      <td>NaN</td>\n",
       "      <td>NaN</td>\n",
       "    </tr>\n",
       "    <tr>\n",
       "      <th>IBM</th>\n",
       "      <td>0.087962</td>\n",
       "      <td>0.163780</td>\n",
       "      <td>0.104065</td>\n",
       "      <td>1.000000</td>\n",
       "      <td>NaN</td>\n",
       "    </tr>\n",
       "    <tr>\n",
       "      <th>DELL</th>\n",
       "      <td>0.174169</td>\n",
       "      <td>0.488450</td>\n",
       "      <td>0.126794</td>\n",
       "      <td>0.104519</td>\n",
       "      <td>1.0</td>\n",
       "    </tr>\n",
       "  </tbody>\n",
       "</table>\n",
       "</div>"
      ],
      "text/plain": [
       "          GOOGL      NVDA      AAPL       IBM  DELL\n",
       "GOOGL  1.000000       NaN       NaN       NaN   NaN\n",
       "NVDA   0.328185  1.000000       NaN       NaN   NaN\n",
       "AAPL   0.378144  0.268774  1.000000       NaN   NaN\n",
       "IBM    0.087962  0.163780  0.104065  1.000000   NaN\n",
       "DELL   0.174169  0.488450  0.126794  0.104519   1.0"
      ]
     },
     "execution_count": 5,
     "metadata": {},
     "output_type": "execute_result"
    }
   ],
   "source": [
    "# extract and store in a dataframe\n",
    "import pandas as pd\n",
    "analytics_data = response.json()\n",
    "\n",
    "# convert data to dataframe\n",
    "corr_data = analytics_data['payload']['RETURNS_CALCULATIONS']['CORRELATION']\n",
    "corr_df = pd.DataFrame(\n",
    "    corr_data['correlation'], \n",
    "    index=corr_data['index'], \n",
    "    columns=corr_data['index']\n",
    ")\n",
    "\n",
    "corr_df.head()\n"
   ]
  },
  {
   "cell_type": "code",
   "execution_count": 6,
   "metadata": {},
   "outputs": [
    {
     "data": {
      "text/html": [
       "<div>\n",
       "<style scoped>\n",
       "    .dataframe tbody tr th:only-of-type {\n",
       "        vertical-align: middle;\n",
       "    }\n",
       "\n",
       "    .dataframe tbody tr th {\n",
       "        vertical-align: top;\n",
       "    }\n",
       "\n",
       "    .dataframe thead th {\n",
       "        text-align: right;\n",
       "    }\n",
       "</style>\n",
       "<table border=\"1\" class=\"dataframe\">\n",
       "  <thead>\n",
       "    <tr style=\"text-align: right;\">\n",
       "      <th></th>\n",
       "      <th>GOOGL</th>\n",
       "      <th>NVDA</th>\n",
       "      <th>AAPL</th>\n",
       "      <th>IBM</th>\n",
       "      <th>DELL</th>\n",
       "    </tr>\n",
       "  </thead>\n",
       "  <tbody>\n",
       "    <tr>\n",
       "      <th>GOOGL</th>\n",
       "      <td>1.000000</td>\n",
       "      <td>0.328185</td>\n",
       "      <td>0.378144</td>\n",
       "      <td>0.087962</td>\n",
       "      <td>0.174169</td>\n",
       "    </tr>\n",
       "    <tr>\n",
       "      <th>NVDA</th>\n",
       "      <td>0.328185</td>\n",
       "      <td>1.000000</td>\n",
       "      <td>0.268774</td>\n",
       "      <td>0.163780</td>\n",
       "      <td>0.488450</td>\n",
       "    </tr>\n",
       "    <tr>\n",
       "      <th>AAPL</th>\n",
       "      <td>0.378144</td>\n",
       "      <td>0.268774</td>\n",
       "      <td>1.000000</td>\n",
       "      <td>0.104065</td>\n",
       "      <td>0.126794</td>\n",
       "    </tr>\n",
       "    <tr>\n",
       "      <th>IBM</th>\n",
       "      <td>0.087962</td>\n",
       "      <td>0.163780</td>\n",
       "      <td>0.104065</td>\n",
       "      <td>1.000000</td>\n",
       "      <td>0.104519</td>\n",
       "    </tr>\n",
       "    <tr>\n",
       "      <th>DELL</th>\n",
       "      <td>0.174169</td>\n",
       "      <td>0.488450</td>\n",
       "      <td>0.126794</td>\n",
       "      <td>0.104519</td>\n",
       "      <td>1.000000</td>\n",
       "    </tr>\n",
       "  </tbody>\n",
       "</table>\n",
       "</div>"
      ],
      "text/plain": [
       "          GOOGL      NVDA      AAPL       IBM      DELL\n",
       "GOOGL  1.000000  0.328185  0.378144  0.087962  0.174169\n",
       "NVDA   0.328185  1.000000  0.268774  0.163780  0.488450\n",
       "AAPL   0.378144  0.268774  1.000000  0.104065  0.126794\n",
       "IBM    0.087962  0.163780  0.104065  1.000000  0.104519\n",
       "DELL   0.174169  0.488450  0.126794  0.104519  1.000000"
      ]
     },
     "execution_count": 6,
     "metadata": {},
     "output_type": "execute_result"
    }
   ],
   "source": [
    "# Fill NaN values by filling in the reverse (symmetry of correlation matrix)\n",
    "for i in range(len(corr_df.columns)):\n",
    "    for j in range(i+1, len(corr_df.columns)):\n",
    "        # If the lower triangle is populated but the upper triangle has NaN, fill it\n",
    "        if pd.isna(corr_df.iloc[i, j]):\n",
    "            corr_df.iloc[i, j] = corr_df.iloc[j, i]\n",
    "\n",
    "corr_df.head()"
   ]
  },
  {
   "cell_type": "code",
   "execution_count": 7,
   "metadata": {},
   "outputs": [],
   "source": [
    "# save as .csv\n",
    "corr_df.to_csv('stocks_correlation.csv', index=True)"
   ]
  }
 ],
 "metadata": {
  "kernelspec": {
   "display_name": "base",
   "language": "python",
   "name": "python3"
  },
  "language_info": {
   "codemirror_mode": {
    "name": "ipython",
    "version": 3
   },
   "file_extension": ".py",
   "mimetype": "text/x-python",
   "name": "python",
   "nbconvert_exporter": "python",
   "pygments_lexer": "ipython3",
   "version": "3.11.3"
  }
 },
 "nbformat": 4,
 "nbformat_minor": 2
}
